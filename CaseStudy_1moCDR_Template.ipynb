{
 "cells": [
  {
   "cell_type": "markdown",
   "id": "24a52e3d",
   "metadata": {},
   "source": [
    "# Case Study: Calculating 1mo CDR"
   ]
  },
  {
   "cell_type": "markdown",
   "id": "a7215a4d",
   "metadata": {},
   "source": [
    "#### 1) Import pandas and numpy"
   ]
  },
  {
   "cell_type": "code",
   "execution_count": null,
   "id": "f3447280",
   "metadata": {},
   "outputs": [],
   "source": []
  },
  {
   "cell_type": "markdown",
   "id": "646629e0",
   "metadata": {},
   "source": [
    "#### 2) Read in the raw_data.xlsx file and create a separate dataframe for each sheet. Set up/clean the data as needed for the analysis."
   ]
  },
  {
   "cell_type": "code",
   "execution_count": null,
   "id": "5714b01a",
   "metadata": {},
   "outputs": [],
   "source": []
  },
  {
   "cell_type": "code",
   "execution_count": null,
   "id": "90b11151",
   "metadata": {},
   "outputs": [],
   "source": []
  },
  {
   "cell_type": "code",
   "execution_count": null,
   "id": "d222a321",
   "metadata": {},
   "outputs": [],
   "source": []
  },
  {
   "cell_type": "markdown",
   "id": "6feed39c",
   "metadata": {},
   "source": [
    "#### 3) Create a new dataframe displaying the total amount of charged off UPB for a given month."
   ]
  },
  {
   "cell_type": "code",
   "execution_count": null,
   "id": "1ada66df",
   "metadata": {},
   "outputs": [],
   "source": []
  },
  {
   "cell_type": "code",
   "execution_count": null,
   "id": "3993ea19",
   "metadata": {},
   "outputs": [],
   "source": []
  },
  {
   "cell_type": "code",
   "execution_count": null,
   "id": "91aa715a",
   "metadata": {},
   "outputs": [],
   "source": []
  },
  {
   "cell_type": "code",
   "execution_count": null,
   "id": "801e884c",
   "metadata": {},
   "outputs": [],
   "source": []
  },
  {
   "cell_type": "code",
   "execution_count": null,
   "id": "22ebad39",
   "metadata": {},
   "outputs": [],
   "source": []
  },
  {
   "cell_type": "markdown",
   "id": "fe5926c8",
   "metadata": {},
   "source": [
    "#### 4) Which dates had zero UPB charged off for the month?"
   ]
  },
  {
   "cell_type": "code",
   "execution_count": null,
   "id": "2fcbb897",
   "metadata": {},
   "outputs": [],
   "source": []
  },
  {
   "cell_type": "code",
   "execution_count": null,
   "id": "f7418f54",
   "metadata": {},
   "outputs": [],
   "source": []
  },
  {
   "cell_type": "code",
   "execution_count": null,
   "id": "d689e111",
   "metadata": {},
   "outputs": [],
   "source": []
  },
  {
   "cell_type": "markdown",
   "id": "4b0aaef6",
   "metadata": {},
   "source": [
    "#### 5) Create a new dataframe displaying the total performing balance at the beginning of the month."
   ]
  },
  {
   "cell_type": "code",
   "execution_count": null,
   "id": "7bc0cd3f",
   "metadata": {},
   "outputs": [],
   "source": []
  },
  {
   "cell_type": "code",
   "execution_count": null,
   "id": "29c2f825",
   "metadata": {},
   "outputs": [],
   "source": []
  },
  {
   "cell_type": "code",
   "execution_count": null,
   "id": "4a1e106d",
   "metadata": {},
   "outputs": [],
   "source": []
  },
  {
   "cell_type": "markdown",
   "id": "eb7c5386",
   "metadata": {},
   "source": [
    "#### 6) Merge the charged off dataframe and total performing balance dataframe into one."
   ]
  },
  {
   "cell_type": "code",
   "execution_count": null,
   "id": "1e297a78",
   "metadata": {},
   "outputs": [],
   "source": []
  },
  {
   "cell_type": "code",
   "execution_count": null,
   "id": "7adb067d",
   "metadata": {},
   "outputs": [],
   "source": []
  },
  {
   "cell_type": "code",
   "execution_count": null,
   "id": "78aa9ce9",
   "metadata": {},
   "outputs": [],
   "source": []
  },
  {
   "cell_type": "markdown",
   "id": "f9d7b396",
   "metadata": {},
   "source": [
    "#### 7) Insert a new column that calculates 1mo CDR."
   ]
  },
  {
   "cell_type": "code",
   "execution_count": null,
   "id": "3b52c934",
   "metadata": {},
   "outputs": [],
   "source": []
  },
  {
   "cell_type": "code",
   "execution_count": null,
   "id": "f5ba5276",
   "metadata": {},
   "outputs": [],
   "source": []
  },
  {
   "cell_type": "code",
   "execution_count": null,
   "id": "77c49e4b",
   "metadata": {},
   "outputs": [],
   "source": []
  },
  {
   "cell_type": "markdown",
   "id": "57cbf767",
   "metadata": {},
   "source": [
    "#### 8) What is the CDR for the year 2019?"
   ]
  },
  {
   "cell_type": "code",
   "execution_count": null,
   "id": "548c7db8",
   "metadata": {},
   "outputs": [],
   "source": []
  },
  {
   "cell_type": "code",
   "execution_count": null,
   "id": "e1eeade9",
   "metadata": {},
   "outputs": [],
   "source": []
  },
  {
   "cell_type": "code",
   "execution_count": null,
   "id": "6064ba3b",
   "metadata": {},
   "outputs": [],
   "source": []
  },
  {
   "cell_type": "markdown",
   "id": "c6ae42bc",
   "metadata": {},
   "source": [
    "#### 9) Plot the 1mo CDR over time."
   ]
  },
  {
   "cell_type": "code",
   "execution_count": null,
   "id": "febd6fc0",
   "metadata": {},
   "outputs": [],
   "source": []
  },
  {
   "cell_type": "code",
   "execution_count": null,
   "id": "08b50aa7",
   "metadata": {},
   "outputs": [],
   "source": []
  },
  {
   "cell_type": "code",
   "execution_count": null,
   "id": "209896f0",
   "metadata": {},
   "outputs": [],
   "source": []
  },
  {
   "cell_type": "code",
   "execution_count": null,
   "id": "0ee2e6db",
   "metadata": {},
   "outputs": [],
   "source": []
  }
 ],
 "metadata": {
  "kernelspec": {
   "display_name": "Python 3",
   "language": "python",
   "name": "python3"
  },
  "language_info": {
   "codemirror_mode": {
    "name": "ipython",
    "version": 3
   },
   "file_extension": ".py",
   "mimetype": "text/x-python",
   "name": "python",
   "nbconvert_exporter": "python",
   "pygments_lexer": "ipython3",
   "version": "3.8.8"
  }
 },
 "nbformat": 4,
 "nbformat_minor": 5
}
